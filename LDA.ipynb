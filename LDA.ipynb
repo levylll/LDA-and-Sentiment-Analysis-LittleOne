{
 "cells": [
  {
   "cell_type": "code",
   "execution_count": null,
   "metadata": {
    "collapsed": false
   },
   "outputs": [],
   "source": [
    "import pandas as pd\n",
    "import numpy as np\n",
    "import lda"
   ]
  },
  {
   "cell_type": "code",
   "execution_count": null,
   "metadata": {
    "collapsed": false
   },
   "outputs": [],
   "source": [
    "import os\n",
    "all_texts = []\n",
    "for file in os.listdir(r\"C:\\Users\\Ксения\\Desktop\\Master_Big_Data\\Programming\\Little_one\"):\n",
    "    if file.endswith(\".txt\"):\n",
    "        all_texts.append(file)"
   ]
  },
  {
   "cell_type": "code",
   "execution_count": null,
   "metadata": {
    "collapsed": false
   },
   "outputs": [],
   "source": [
    "import re\n",
    "from sklearn.feature_extraction.text import CountVectorizer\n",
    "\n",
    "def preprocessing(file_name, collector):\n",
    "    import re\n",
    "    i = 0\n",
    "    with open(\"data_m.txt\", \"a\", encoding = \"utf8\") as output:\n",
    "        with open(file_name, \"r\", encoding = \"utf8\") as data:\n",
    "            for line in data:\n",
    "                i+=1\n",
    "                if len(line) > 1:\n",
    "                    \n",
    "                    line = ' '.join(re.findall('[а-я]+',re.sub('ё','e', str(line).lower())))+'\\n'\n",
    "                    collector.append(line)\n",
    "                    if line != \"\\n\":\n",
    "                        output.write(line)\n",
    "    return output, collector    "
   ]
  },
  {
   "cell_type": "code",
   "execution_count": null,
   "metadata": {
    "collapsed": false,
    "scrolled": true
   },
   "outputs": [],
   "source": [
    "i = 0\n",
    "big_text = []\n",
    "for file_name in all_texts:\n",
    "#     print(\"percent done:\", i/len(all_texts), \"%\")\n",
    "    big_file, big_text = preprocessing(file_name , big_text)\n",
    "    i+=1"
   ]
  },
  {
   "cell_type": "code",
   "execution_count": null,
   "metadata": {
    "collapsed": false
   },
   "outputs": [],
   "source": [
    "print(len(big_text))"
   ]
  },
  {
   "cell_type": "code",
   "execution_count": null,
   "metadata": {
    "collapsed": false
   },
   "outputs": [],
   "source": [
    "from nltk.corpus import stopwords\n",
    "import nltk\n",
    "nltk.download(\"stopwords\")\n",
    "stop_words = stopwords.words(\"russian\")"
   ]
  },
  {
   "cell_type": "code",
   "execution_count": null,
   "metadata": {
    "collapsed": true
   },
   "outputs": [],
   "source": [
    "sw_df = pd.DataFrame(columns=['stopwords'], data=stop_words)\n",
    "sw_df.to_csv('sw.csv', index=False)"
   ]
  },
  {
   "cell_type": "code",
   "execution_count": null,
   "metadata": {
    "collapsed": false
   },
   "outputs": [],
   "source": [
    "count_v = CountVectorizer(stop_words = stop_words)\n",
    "word_count = count_v.fit_transform(big_text)\n",
    "print(word_count.shape)"
   ]
  },
  {
   "cell_type": "code",
   "execution_count": null,
   "metadata": {
    "collapsed": false,
    "scrolled": true
   },
   "outputs": [],
   "source": [
    "model = lda.LDA(n_topics=30, n_iter=500, random_state=1)\n",
    "%time model.fit(word_count)"
   ]
  },
  {
   "cell_type": "code",
   "execution_count": null,
   "metadata": {
    "collapsed": true
   },
   "outputs": [],
   "source": [
    "def top_words(count_v, model, n):\n",
    "    rev_dict = {}\n",
    "    for el, val in count_v.vocabulary_.items():\n",
    "        rev_dict[val] = el\n",
    "\n",
    "    topic_word = model.topic_word_\n",
    "    for i, topic_dist in enumerate(topic_word):\n",
    "        a = np.argsort(topic_dist)[:-(n+1):-1]\n",
    "        print(i, end =\" \")\n",
    "        for j in a:\n",
    "            print(rev_dict[j], end = \" \")\n",
    "        print() \n",
    "    "
   ]
  },
  {
   "cell_type": "code",
   "execution_count": null,
   "metadata": {
    "collapsed": false,
    "scrolled": true
   },
   "outputs": [],
   "source": [
    "top_words(count_v, model, 25)"
   ]
  },
  {
   "cell_type": "code",
   "execution_count": null,
   "metadata": {
    "collapsed": true
   },
   "outputs": [],
   "source": []
  }
 ],
 "metadata": {
  "anaconda-cloud": {},
  "kernelspec": {
   "display_name": "Python [conda root]",
   "language": "python",
   "name": "conda-root-py"
  },
  "language_info": {
   "codemirror_mode": {
    "name": "ipython",
    "version": 3
   },
   "file_extension": ".py",
   "mimetype": "text/x-python",
   "name": "python",
   "nbconvert_exporter": "python",
   "pygments_lexer": "ipython3",
   "version": "3.5.2"
  }
 },
 "nbformat": 4,
 "nbformat_minor": 1
}
