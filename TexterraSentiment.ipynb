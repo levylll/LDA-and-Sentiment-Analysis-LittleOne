{
 "cells": [
  {
   "cell_type": "code",
   "execution_count": 2,
   "metadata": {
    "collapsed": false
   },
   "outputs": [],
   "source": [
    "from ispras import texterra\n",
    "import pandas as pd"
   ]
  },
  {
   "cell_type": "code",
   "execution_count": 51,
   "metadata": {
    "collapsed": false
   },
   "outputs": [],
   "source": [
    "df = pd.read_json(\"merged4.txt\")"
   ]
  },
  {
   "cell_type": "code",
   "execution_count": 52,
   "metadata": {
    "collapsed": false
   },
   "outputs": [
    {
     "data": {
      "text/html": [
       "<div>\n",
       "<table border=\"1\" class=\"dataframe\">\n",
       "  <thead>\n",
       "    <tr style=\"text-align: right;\">\n",
       "      <th></th>\n",
       "      <th>index</th>\n",
       "      <th>lemmas</th>\n",
       "      <th>post_id</th>\n",
       "      <th>prep</th>\n",
       "      <th>quote</th>\n",
       "      <th>text</th>\n",
       "      <th>thread_title</th>\n",
       "      <th>timestamp</th>\n",
       "      <th>user_id</th>\n",
       "      <th>user_name</th>\n",
       "    </tr>\n",
       "  </thead>\n",
       "  <tbody>\n",
       "    <tr>\n",
       "      <th>100000</th>\n",
       "      <td>5428</td>\n",
       "      <td>таня а как звать твой врач она правильно совер...</td>\n",
       "      <td>92690385</td>\n",
       "      <td>таня а как зовут твоего врача она правильно со...</td>\n",
       "      <td>92689984.0</td>\n",
       "      <td>\\r\\n\\t\\t\\t\\t\\t\\t\\tТаня, а как зовут твоего вра...</td>\n",
       "      <td>у кого стоит или стоял пессарий</td>\n",
       "      <td>22.01.2013, 19:25</td>\n",
       "      <td>154.0</td>\n",
       "      <td>Адиту</td>\n",
       "    </tr>\n",
       "    <tr>\n",
       "      <th>100001</th>\n",
       "      <td>5429</td>\n",
       "      <td>тоедать я правильно сделать что не становиться...</td>\n",
       "      <td>92690733</td>\n",
       "      <td>тоесть я правильно сделала что не стала приним...</td>\n",
       "      <td>92690385.0</td>\n",
       "      <td>\\n\\n\\n\\n\\n\\n\\n\\n\\nТоесть я правильно сделала ч...</td>\n",
       "      <td>у кого стоит или стоял пессарий</td>\n",
       "      <td>22.01.2013, 19:33</td>\n",
       "      <td>540398.0</td>\n",
       "      <td>liss`ka</td>\n",
       "    </tr>\n",
       "    <tr>\n",
       "      <th>100002</th>\n",
       "      <td>5430</td>\n",
       "      <td>я ж не врач я только начитываться но я в девят...</td>\n",
       "      <td>92690823</td>\n",
       "      <td>я ж не врач я только начитавшаяся но мне в дев...</td>\n",
       "      <td>92690733.0</td>\n",
       "      <td>\\r\\n\\t\\t\\t\\t\\t\\t\\tЯ ж не врач, я только \"начит...</td>\n",
       "      <td>у кого стоит или стоял пессарий</td>\n",
       "      <td>22.01.2013, 19:35</td>\n",
       "      <td>154.0</td>\n",
       "      <td>Адиту</td>\n",
       "    </tr>\n",
       "    <tr>\n",
       "      <th>100003</th>\n",
       "      <td>5431</td>\n",
       "      <td>я магний вообще не помогать как и магнезия и в...</td>\n",
       "      <td>92690904</td>\n",
       "      <td>мне магний вообще не помогает как и магнезия и...</td>\n",
       "      <td>92690385.0</td>\n",
       "      <td>\\n\\n\\n\\n\\n\\n\\n\\n\\nМне магний вообще не помогае...</td>\n",
       "      <td>у кого стоит или стоял пессарий</td>\n",
       "      <td>22.01.2013, 19:37</td>\n",
       "      <td>398033.0</td>\n",
       "      <td>Мечтаем</td>\n",
       "    </tr>\n",
       "    <tr>\n",
       "      <th>100004</th>\n",
       "      <td>5432</td>\n",
       "      <td>танюша спасибо ты сам как все так же лежать из...</td>\n",
       "      <td>92690929</td>\n",
       "      <td>танюш спасибо ты сама как все так же лежишь из...</td>\n",
       "      <td>92689706.0</td>\n",
       "      <td>\\n\\n\\n\\n\\n\\n\\n\\n\\nТанюш, спасибо! Ты сама как?...</td>\n",
       "      <td>у кого стоит или стоял пессарий</td>\n",
       "      <td>22.01.2013, 19:37</td>\n",
       "      <td>296839.0</td>\n",
       "      <td>Lana0112</td>\n",
       "    </tr>\n",
       "  </tbody>\n",
       "</table>\n",
       "</div>"
      ],
      "text/plain": [
       "        index                                             lemmas   post_id  \\\n",
       "100000   5428  таня а как звать твой врач она правильно совер...  92690385   \n",
       "100001   5429  тоедать я правильно сделать что не становиться...  92690733   \n",
       "100002   5430  я ж не врач я только начитываться но я в девят...  92690823   \n",
       "100003   5431  я магний вообще не помогать как и магнезия и в...  92690904   \n",
       "100004   5432  танюша спасибо ты сам как все так же лежать из...  92690929   \n",
       "\n",
       "                                                     prep       quote  \\\n",
       "100000  таня а как зовут твоего врача она правильно со...  92689984.0   \n",
       "100001  тоесть я правильно сделала что не стала приним...  92690385.0   \n",
       "100002  я ж не врач я только начитавшаяся но мне в дев...  92690733.0   \n",
       "100003  мне магний вообще не помогает как и магнезия и...  92690385.0   \n",
       "100004  танюш спасибо ты сама как все так же лежишь из...  92689706.0   \n",
       "\n",
       "                                                     text  \\\n",
       "100000  \\r\\n\\t\\t\\t\\t\\t\\t\\tТаня, а как зовут твоего вра...   \n",
       "100001  \\n\\n\\n\\n\\n\\n\\n\\n\\nТоесть я правильно сделала ч...   \n",
       "100002  \\r\\n\\t\\t\\t\\t\\t\\t\\tЯ ж не врач, я только \"начит...   \n",
       "100003  \\n\\n\\n\\n\\n\\n\\n\\n\\nМне магний вообще не помогае...   \n",
       "100004  \\n\\n\\n\\n\\n\\n\\n\\n\\nТанюш, спасибо! Ты сама как?...   \n",
       "\n",
       "                           thread_title          timestamp   user_id user_name  \n",
       "100000  у кого стоит или стоял пессарий  22.01.2013, 19:25     154.0     Адиту  \n",
       "100001  у кого стоит или стоял пессарий  22.01.2013, 19:33  540398.0   liss`ka  \n",
       "100002  у кого стоит или стоял пессарий  22.01.2013, 19:35     154.0     Адиту  \n",
       "100003  у кого стоит или стоял пессарий  22.01.2013, 19:37  398033.0   Мечтаем  \n",
       "100004  у кого стоит или стоял пессарий  22.01.2013, 19:37  296839.0  Lana0112  "
      ]
     },
     "execution_count": 52,
     "metadata": {},
     "output_type": "execute_result"
    }
   ],
   "source": [
    "df.head()"
   ]
  },
  {
   "cell_type": "code",
   "execution_count": 55,
   "metadata": {
    "collapsed": true
   },
   "outputs": [],
   "source": [
    "t = texterra.API(\"53f3756274ddf3602f7871e48ded95ddf11134e3\")\n",
    "m = texterra.API(\"4900907eb748a514a9c6b82dbc0d764697e453fa\")\n",
    "z = texterra.API(\"08737780af20cd2d327c97bc15a842a992ed80f0\")"
   ]
  },
  {
   "cell_type": "code",
   "execution_count": 57,
   "metadata": {
    "collapsed": false
   },
   "outputs": [
    {
     "data": {
      "text/plain": [
       "{'annotations': {'pos-token': [{'annotated-text': 'Hello World',\n",
       "    'end': 5,\n",
       "    'start': 0,\n",
       "    'text': 'Hello',\n",
       "    'value': {'characters': [], 'tag': 'OTHER', 'type': 'penn'}},\n",
       "   {'annotated-text': 'Hello World',\n",
       "    'end': 11,\n",
       "    'start': 6,\n",
       "    'text': 'World',\n",
       "    'value': {'characters': [], 'tag': 'NNP', 'type': 'penn'}}]},\n",
       " 'text': 'Hello World'}"
      ]
     },
     "execution_count": 57,
     "metadata": {},
     "output_type": "execute_result"
    }
   ],
   "source": [
    "doc = t.posTaggingAnnotate('Hello World') "
   ]
  },
  {
   "cell_type": "code",
   "execution_count": 56,
   "metadata": {
    "collapsed": false
   },
   "outputs": [
    {
     "data": {
      "text/plain": [
       "{'annotations': {'pos-token': [{'annotated-text': 'Hello World',\n",
       "    'end': 5,\n",
       "    'start': 0,\n",
       "    'text': 'Hello',\n",
       "    'value': {'characters': [], 'tag': 'OTHER', 'type': 'penn'}},\n",
       "   {'annotated-text': 'Hello World',\n",
       "    'end': 11,\n",
       "    'start': 6,\n",
       "    'text': 'World',\n",
       "    'value': {'characters': [], 'tag': 'NNP', 'type': 'penn'}}]},\n",
       " 'text': 'Hello World'}"
      ]
     },
     "execution_count": 56,
     "metadata": {},
     "output_type": "execute_result"
    }
   ],
   "source": [
    "doc1 = m.posTaggingAnnotate('Hello World') "
   ]
  },
  {
   "cell_type": "code",
   "execution_count": 64,
   "metadata": {
    "collapsed": false
   },
   "outputs": [
    {
     "name": "stdout",
     "output_type": "stream",
     "text": [
      "Wall time: 500 µs\n"
     ]
    }
   ],
   "source": [
    "df1= df.iloc[:10000]\n",
    "df2 = df.iloc[10000:20000]\n",
    "%time df3 = df.iloc[20000:30000]"
   ]
  },
  {
   "cell_type": "code",
   "execution_count": 66,
   "metadata": {
    "collapsed": false
   },
   "outputs": [
    {
     "name": "stdout",
     "output_type": "stream",
     "text": [
      "Wall time: 23h 40min 23s\n"
     ]
    },
    {
     "name": "stderr",
     "output_type": "stream",
     "text": [
      "C:\\Users\\Ксения\\Anaconda3\\lib\\site-packages\\ipykernel\\__main__.py:1: SettingWithCopyWarning: \n",
      "A value is trying to be set on a copy of a slice from a DataFrame.\n",
      "Try using .loc[row_indexer,col_indexer] = value instead\n",
      "\n",
      "See the caveats in the documentation: http://pandas.pydata.org/pandas-docs/stable/indexing.html#indexing-view-versus-copy\n",
      "  if __name__ == '__main__':\n"
     ]
    }
   ],
   "source": [
    "%time df1[\"sentiment\"] = [m.sentimentAnalysis(df1.text.iloc[i]) for i in range(len(df1))]"
   ]
  },
  {
   "cell_type": "code",
   "execution_count": 67,
   "metadata": {
    "collapsed": false
   },
   "outputs": [
    {
     "name": "stdout",
     "output_type": "stream",
     "text": [
      "Wall time: 12h 33min 18s\n"
     ]
    },
    {
     "name": "stderr",
     "output_type": "stream",
     "text": [
      "C:\\Users\\Ксения\\Anaconda3\\lib\\site-packages\\ipykernel\\__main__.py:1: SettingWithCopyWarning: \n",
      "A value is trying to be set on a copy of a slice from a DataFrame.\n",
      "Try using .loc[row_indexer,col_indexer] = value instead\n",
      "\n",
      "See the caveats in the documentation: http://pandas.pydata.org/pandas-docs/stable/indexing.html#indexing-view-versus-copy\n",
      "  if __name__ == '__main__':\n"
     ]
    }
   ],
   "source": [
    "%time df2[\"sentiment\"] = [z.sentimentAnalysis(df2.text.iloc[i]) for i in range(len(df2))]"
   ]
  },
  {
   "cell_type": "code",
   "execution_count": null,
   "metadata": {
    "collapsed": true
   },
   "outputs": [],
   "source": [
    "%time df3[\"sentiment\"] = [z.sentimentAnalysis(df3.text.iloc[i]) for i in range(len(df3))]"
   ]
  },
  {
   "cell_type": "code",
   "execution_count": 46,
   "metadata": {
    "collapsed": false
   },
   "outputs": [
    {
     "data": {
      "text/html": [
       "<div>\n",
       "<table border=\"1\" class=\"dataframe\">\n",
       "  <thead>\n",
       "    <tr style=\"text-align: right;\">\n",
       "      <th></th>\n",
       "      <th>text</th>\n",
       "      <th>sentiment</th>\n",
       "    </tr>\n",
       "  </thead>\n",
       "  <tbody>\n",
       "    <tr>\n",
       "      <th>0</th>\n",
       "      <td>иногда по поиску очень трудно найти тему по ин...</td>\n",
       "      <td>NEUTRAL</td>\n",
       "    </tr>\n",
       "    <tr>\n",
       "      <th>1</th>\n",
       "      <td>родоразрешение стимуляция кесарево метод крист...</td>\n",
       "      <td>NEUTRAL</td>\n",
       "    </tr>\n",
       "    <tr>\n",
       "      <th>10</th>\n",
       "      <td>очень удобно спасибо главное чтоб темка не зат...</td>\n",
       "      <td>NEUTRAL</td>\n",
       "    </tr>\n",
       "    <tr>\n",
       "      <th>100</th>\n",
       "      <td>в чем состоит проблема какая то конкретная ссы...</td>\n",
       "      <td>NEUTRAL</td>\n",
       "    </tr>\n",
       "    <tr>\n",
       "      <th>1000</th>\n",
       "      <td>о это как в абсурд конечно но чтт делать тогда...</td>\n",
       "      <td>NEUTRAL</td>\n",
       "    </tr>\n",
       "  </tbody>\n",
       "</table>\n",
       "</div>"
      ],
      "text/plain": [
       "                                                   text sentiment\n",
       "0     иногда по поиску очень трудно найти тему по ин...   NEUTRAL\n",
       "1     родоразрешение стимуляция кесарево метод крист...   NEUTRAL\n",
       "10    очень удобно спасибо главное чтоб темка не зат...   NEUTRAL\n",
       "100   в чем состоит проблема какая то конкретная ссы...   NEUTRAL\n",
       "1000  о это как в абсурд конечно но чтт делать тогда...   NEUTRAL"
      ]
     },
     "execution_count": 46,
     "metadata": {},
     "output_type": "execute_result"
    }
   ],
   "source": [
    "df.head()"
   ]
  },
  {
   "cell_type": "code",
   "execution_count": null,
   "metadata": {
    "collapsed": true
   },
   "outputs": [],
   "source": []
  }
 ],
 "metadata": {
  "anaconda-cloud": {},
  "kernelspec": {
   "display_name": "Python [conda root]",
   "language": "python",
   "name": "conda-root-py"
  },
  "language_info": {
   "codemirror_mode": {
    "name": "ipython",
    "version": 3
   },
   "file_extension": ".py",
   "mimetype": "text/x-python",
   "name": "python",
   "nbconvert_exporter": "python",
   "pygments_lexer": "ipython3",
   "version": "3.5.2"
  }
 },
 "nbformat": 4,
 "nbformat_minor": 1
}
